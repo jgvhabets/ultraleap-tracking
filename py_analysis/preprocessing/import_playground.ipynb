{
 "cells": [
  {
   "cell_type": "markdown",
   "metadata": {},
   "source": [
    "# UltraLeap import playground"
   ]
  },
  {
   "cell_type": "code",
   "execution_count": 26,
   "metadata": {},
   "outputs": [],
   "source": [
    "import os\n",
    "import importlib\n",
    "import pandas as pd\n",
    "import numpy as np\n",
    "import matplotlib.pyplot as plt\n",
    "import csv\n",
    "from itertools import compress"
   ]
  },
  {
   "cell_type": "code",
   "execution_count": 169,
   "metadata": {},
   "outputs": [],
   "source": [
    "import import_data.import_unity_positions as import_unity\n",
    "import movement_calc.calc_3d_distances as calc_3d"
   ]
  },
  {
   "cell_type": "code",
   "execution_count": 3,
   "metadata": {},
   "outputs": [],
   "source": [
    "# Find common relative path and directory structure\n",
    "proj_dir = import_unity.find_project_dir(os.getcwd())\n",
    "data_dir = os.path.join(proj_dir, 'data')"
   ]
  },
  {
   "cell_type": "code",
   "execution_count": 31,
   "metadata": {},
   "outputs": [],
   "source": [
    "testfiles = os.listdir(os.path.join(data_dir, 'test'))\n",
    "sel = [f[-3:] in ['csv', 'tsv'] for f in testfiles]\n",
    "testfiles = list(compress(testfiles, sel))"
   ]
  },
  {
   "cell_type": "code",
   "execution_count": 168,
   "metadata": {},
   "outputs": [],
   "source": [
    "importlib.reload(import_unity)\n",
    "\n",
    "data = {}\n",
    "\n",
    "# select one file, or take testfiles from previous cell\n",
    "\n",
    "f = '/Users/jeroenhabets/Research/CHARITE/projects/ultraleap_handtracking/data/test/log_files/14_07_2022_18_28_grabbing/positionData_lh.tsv'\n",
    "# for f in testfiles:\n",
    "\n",
    "side = f[-6:-4]\n",
    "\n",
    "df = pd.read_csv(\n",
    "    f,  #os.path.join(data_dir, 'test', f),\n",
    "    delimiter='\\t',\n",
    "    on_bad_lines='skip',  # 'warn'\n",
    ")\n",
    "data[side] = import_unity.unityData_2_DataFrame(df)\n",
    "\n"
   ]
  },
  {
   "cell_type": "code",
   "execution_count": 126,
   "metadata": {},
   "outputs": [],
   "source": [
    "points_of_int = [\n",
    "    'thumb_tip',\n",
    "    'index_tip'\n",
    "]"
   ]
  },
  {
   "cell_type": "code",
   "execution_count": 170,
   "metadata": {},
   "outputs": [],
   "source": [
    "importlib.reload(calc_3d)\n",
    "\n",
    "dist = calc_3d.eucl_dist(\n",
    "    data['lh'],\n",
    "    points_of_int[0],\n",
    "    points_of_int[1]\n",
    ")\n",
    "\n",
    "    "
   ]
  },
  {
   "cell_type": "code",
   "execution_count": 172,
   "metadata": {},
   "outputs": [],
   "source": [
    "plt.figure(figsize=(24, 18))\n",
    "plt.plot(dist)\n",
    "plt.plot(data['lh']['grab_strength'] * .1)\n",
    "plt.close()  # plt.show()"
   ]
  }
 ],
 "metadata": {
  "interpreter": {
   "hash": "3215b98ba4c40f90b358cffaa32696e7bfbdbe38275c45cfefc4b84b3a964fcf"
  },
  "kernelspec": {
   "display_name": "Python 3.9.7 ('ecog_dysk')",
   "language": "python",
   "name": "python3"
  },
  "language_info": {
   "codemirror_mode": {
    "name": "ipython",
    "version": 3
   },
   "file_extension": ".py",
   "mimetype": "text/x-python",
   "name": "python",
   "nbconvert_exporter": "python",
   "pygments_lexer": "ipython3",
   "version": "3.9.7"
  },
  "orig_nbformat": 4
 },
 "nbformat": 4,
 "nbformat_minor": 2
}
